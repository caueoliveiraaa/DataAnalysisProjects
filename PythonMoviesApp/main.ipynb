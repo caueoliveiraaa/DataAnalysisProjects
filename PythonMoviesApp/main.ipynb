{
 "cells": [
  {
   "cell_type": "code",
   "execution_count": 2,
   "metadata": {},
   "outputs": [],
   "source": [
    "# Import necessary dependencies\n",
    "import matplotlib\n",
    "import pandas as pd\n",
    "import numpy as np\n",
    "import seaborn as sns\n",
    "import matplotlib.pyplot as plt\n",
    "from matplotlib.pyplot import figure"
   ]
  },
  {
   "cell_type": "code",
   "execution_count": 3,
   "metadata": {},
   "outputs": [],
   "source": [
    "# Set up the plot style and default size for all plots created with matplotlib\n",
    "plt.style.use('ggplot')\n",
    "matplotlib.rcParams['figure.figsize'] = (12, 8)"
   ]
  },
  {
   "cell_type": "code",
   "execution_count": null,
   "metadata": {},
   "outputs": [],
   "source": [
    "# Read data from the csv\n",
    "df = pd.read_csv('Dataset\\\\movies.csv')\n",
    "df"
   ]
  },
  {
   "cell_type": "code",
   "execution_count": null,
   "metadata": {},
   "outputs": [],
   "source": [
    "# Display the five first rows\n",
    "df.head()"
   ]
  },
  {
   "cell_type": "code",
   "execution_count": null,
   "metadata": {},
   "outputs": [],
   "source": [
    "# Verify if missing data exists\n",
    "for col in df.columns:\n",
    "    percentage_missing = np.mean(df[col].isnull())\n",
    "    print('{} - {}%'.format(col, percentage_missing))"
   ]
  },
  {
   "cell_type": "code",
   "execution_count": null,
   "metadata": {},
   "outputs": [],
   "source": [
    "# Display data types for the columns\n",
    "df.dtypes"
   ]
  },
  {
   "cell_type": "code",
   "execution_count": null,
   "metadata": {},
   "outputs": [],
   "source": [
    "# Change the type of columns\n",
    "df['budget'] = df['budget'].fillna(0).astype('int64')\n",
    "df['gross'] = df['gross'].fillna(0).astype('int64')\n",
    "df.head()"
   ]
  },
  {
   "cell_type": "code",
   "execution_count": null,
   "metadata": {},
   "outputs": [],
   "source": [
    "# Clean date objects to convert them to dates\n",
    "accepted_formats = ['%B %d, %Y', '%B %Y', '%Y']\n",
    "country_name_pattern = r'\\s*\\(.*\\)'\n",
    "released_clean = df['released'].str.replace(country_name_pattern, '', regex=True)\n",
    "released_dates = pd.Series([None]*len(released_clean))\n",
    "\n",
    "for index, date_item in enumerate(released_clean):\n",
    "    converted_item = None\n",
    "    for date_format in accepted_formats:\n",
    "        try:\n",
    "            converted_item = pd.to_datetime(date_item, format=date_format)\n",
    "            break\n",
    "        except:\n",
    "            pass\n",
    "    released_dates.iloc[index] = converted_item\n",
    "    if converted_item is None:\n",
    "        print(f'Date {date_item} could not be converted to formats: {accepted_formats}')\n",
    "    \n",
    "# Create correct year column\n",
    "released_dates = pd.to_datetime(released_dates, errors='coerce')\n",
    "df['yearcorrect'] = released_dates.dt.year.astype('Int64').astype(str)\n",
    "df.head()"
   ]
  },
  {
   "cell_type": "code",
   "execution_count": null,
   "metadata": {},
   "outputs": [],
   "source": [
    "# Sort values of the column 'gross'\n",
    "df.sort_values(by=['gross'], inplace=False, ascending=False)"
   ]
  }
 ],
 "metadata": {
  "kernelspec": {
   "display_name": "env",
   "language": "python",
   "name": "python3"
  },
  "language_info": {
   "codemirror_mode": {
    "name": "ipython",
    "version": 3
   },
   "file_extension": ".py",
   "mimetype": "text/x-python",
   "name": "python",
   "nbconvert_exporter": "python",
   "pygments_lexer": "ipython3",
   "version": "3.12.1"
  }
 },
 "nbformat": 4,
 "nbformat_minor": 2
}
